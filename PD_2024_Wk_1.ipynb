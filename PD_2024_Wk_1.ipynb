{
  "nbformat": 4,
  "nbformat_minor": 0,
  "metadata": {
    "colab": {
      "provenance": [],
      "authorship_tag": "ABX9TyOkIdlZWAEAeiTly0CR/D9O",
      "include_colab_link": true
    },
    "kernelspec": {
      "name": "python3",
      "display_name": "Python 3"
    },
    "language_info": {
      "name": "python"
    }
  },
  "cells": [
    {
      "cell_type": "markdown",
      "metadata": {
        "id": "view-in-github",
        "colab_type": "text"
      },
      "source": [
        "<a href=\"https://colab.research.google.com/github/CodewordSupriya/Practice/blob/main/PD_2024_Wk_1.ipynb\" target=\"_parent\"><img src=\"https://colab.research.google.com/assets/colab-badge.svg\" alt=\"Open In Colab\"/></a>"
      ]
    },
    {
      "cell_type": "code",
      "execution_count": 1,
      "metadata": {
        "id": "gXvFb-TS8Uwu"
      },
      "outputs": [],
      "source": [
        "import pandas as pd"
      ]
    },
    {
      "cell_type": "code",
      "source": [
        "WK1 = pd.read_csv(\"/content/PD 2024 Wk 1 Input.csv\")"
      ],
      "metadata": {
        "id": "wMCM9fjg_OnN"
      },
      "execution_count": 15,
      "outputs": []
    },
    {
      "cell_type": "code",
      "source": [
        "WK1[['Date', 'Flight Number', 'Route', 'Class','Price']]=WK1['Flight Details'].str.split('//', expand=True)"
      ],
      "metadata": {
        "id": "F_R-QSuY_Wqn"
      },
      "execution_count": 16,
      "outputs": []
    },
    {
      "cell_type": "code",
      "source": [
        "print(WK1)"
      ],
      "metadata": {
        "id": "0E_VTs5iAGKI"
      },
      "execution_count": null,
      "outputs": []
    },
    {
      "cell_type": "code",
      "source": [
        "WK1.drop(['Flight Details'], axis=1, inplace=True)"
      ],
      "metadata": {
        "id": "hO3eUzQOAaJz"
      },
      "execution_count": 17,
      "outputs": []
    },
    {
      "cell_type": "code",
      "source": [
        "print(WK1)"
      ],
      "metadata": {
        "id": "GpagdWnQBgRn"
      },
      "execution_count": null,
      "outputs": []
    },
    {
      "cell_type": "code",
      "source": [
        "WK1[['From','To']]= WK1['Route'].str.split('-', expand=True)"
      ],
      "metadata": {
        "id": "ulBGXrHvBjVX"
      },
      "execution_count": 18,
      "outputs": []
    },
    {
      "cell_type": "code",
      "source": [
        "WK1.drop(['Route'], axis=1, inplace=True)"
      ],
      "metadata": {
        "id": "JMqOCnt8B6FZ"
      },
      "execution_count": 19,
      "outputs": []
    },
    {
      "cell_type": "code",
      "source": [
        "print(WK1)"
      ],
      "metadata": {
        "id": "kfdLozn7CDqP"
      },
      "execution_count": null,
      "outputs": []
    },
    {
      "cell_type": "code",
      "source": [
        "print(WK1.dtypes)"
      ],
      "metadata": {
        "id": "SAcv9yY1CFmN"
      },
      "execution_count": null,
      "outputs": []
    },
    {
      "cell_type": "code",
      "source": [
        "WK1.Date=pd.to_datetime(WK1.Date)"
      ],
      "metadata": {
        "id": "rlVJkM1BDUid"
      },
      "execution_count": 21,
      "outputs": []
    },
    {
      "cell_type": "code",
      "source": [
        "print(WK1.dtypes)"
      ],
      "metadata": {
        "id": "GoGCK7CZFWiw"
      },
      "execution_count": null,
      "outputs": []
    },
    {
      "cell_type": "code",
      "source": [
        "print(WK1)"
      ],
      "metadata": {
        "id": "kGiX4WmeFiYt"
      },
      "execution_count": null,
      "outputs": []
    },
    {
      "cell_type": "code",
      "source": [
        "WK1.Price=pd.to_numeric(WK1.Price)"
      ],
      "metadata": {
        "id": "1PHEJVYoFm8M"
      },
      "execution_count": 24,
      "outputs": []
    },
    {
      "cell_type": "code",
      "source": [
        "print(WK1.dtypes)"
      ],
      "metadata": {
        "id": "tu-oGChWJ9qN"
      },
      "execution_count": null,
      "outputs": []
    },
    {
      "cell_type": "code",
      "source": [
        "WK1['Flow card?'].replace(1,'yes')"
      ],
      "metadata": {
        "id": "Fev4KrM-KBbM"
      },
      "execution_count": null,
      "outputs": []
    },
    {
      "cell_type": "code",
      "source": [
        "WK1['Flow card?']"
      ],
      "metadata": {
        "id": "BQ2in2lyYt8A"
      },
      "execution_count": null,
      "outputs": []
    },
    {
      "cell_type": "code",
      "source": [
        "WK1[['Flow Card?']].replace(1,'yes')"
      ],
      "metadata": {
        "id": "_Gsy_Sxlk-nu"
      },
      "execution_count": null,
      "outputs": []
    },
    {
      "cell_type": "code",
      "source": [
        "WK1[['Flow Card?']].replace(0,'no')"
      ],
      "metadata": {
        "id": "gAnb_vGZlQKK"
      },
      "execution_count": null,
      "outputs": []
    },
    {
      "cell_type": "code",
      "source": [
        "WK1[['Flow Card?']]=WK1[['Flow Card?']].replace(1,'yes')"
      ],
      "metadata": {
        "id": "JWFDhxV7l1TO"
      },
      "execution_count": 32,
      "outputs": []
    },
    {
      "cell_type": "code",
      "source": [
        "WK1[['Flow Card?']]=WK1[['Flow Card?']].replace(0,'no')"
      ],
      "metadata": {
        "id": "V5shaS1Bl8hc"
      },
      "execution_count": 33,
      "outputs": []
    },
    {
      "cell_type": "code",
      "source": [
        "print(WK1)"
      ],
      "metadata": {
        "id": "jrO0SA9wmyk3"
      },
      "execution_count": null,
      "outputs": []
    },
    {
      "cell_type": "code",
      "source": [],
      "metadata": {
        "id": "pCy-41U7m5ml"
      },
      "execution_count": null,
      "outputs": []
    }
  ]
}